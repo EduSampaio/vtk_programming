{
 "cells": [
  {
   "cell_type": "markdown",
   "metadata": {},
   "source": [
    "# 6. Style and Timing"
   ]
  },
  {
   "cell_type": "markdown",
   "metadata": {},
   "source": [
    "## 6.1 Style\n",
    "\n",
    "> \"Any code of your own that you haven't looked at for six or more months might as well have been written by someone else.\" - Eagleson's law\n",
    "\n",
    "\n",
    "So far we've discussed code as a way to communicate with a machine. Functionally this is the purpose of writing code. However, as with any writing, code is also meant to communicate with other humans, and the best programmers don't write code for computers, they write code for humans.\n",
    "\n",
    "To encourage good style practices, Python has developed its own set of rules for writing good, readable code. This is known as the **Python style guide**, and you can find all the details at the [Python website](https://www.python.org/dev/peps/pep-0008/)\n",
    "\n",
    "We'll go over some basic rules for good code, but in general, the best way you can learn to write better code is to look at how experts write code. A good way to do this is to go on github and look at the source code for some of the most popular Python packages, such as [Keras](https://github.com/keras-team/keras/tree/master/keras) and [scikit-learn](https://github.com/scikit-learn/scikit-learn/tree/master/sklearn) "
   ]
  },
  {
   "cell_type": "markdown",
   "metadata": {},
   "source": [
    "### Make your names useful"
   ]
  },
  {
   "cell_type": "code",
   "execution_count": 1,
   "metadata": {},
   "outputs": [],
   "source": [
    "import numpy as np"
   ]
  },
  {
   "cell_type": "code",
   "execution_count": 2,
   "metadata": {},
   "outputs": [],
   "source": [
    "def f():\n",
    "    return None\n",
    "\n",
    "def return_none():\n",
    "    return None"
   ]
  },
  {
   "cell_type": "markdown",
   "metadata": {},
   "source": [
    "These functions do exactly the same thing, but which one is better? Always the one with a name that tells the user (who is usually you) what the function does. The same goes with variables and arguments..."
   ]
  },
  {
   "cell_type": "code",
   "execution_count": 3,
   "metadata": {},
   "outputs": [],
   "source": [
    "def f(x, a, b):\n",
    "    return a + b * x\n",
    "\n",
    "def linear_function(x_values, intercept, slope):\n",
    "    return intercept + slope * x_values"
   ]
  },
  {
   "cell_type": "markdown",
   "metadata": {},
   "source": [
    "Which one is better? Again, the one with the useful names. Always name things so that the person using the code (you) knows whats happening. This also makes it easier to search for specific parts of your code, try using <kbd>command</kbd>+<kbd>F</kbd> (Mac) or <kbd>ctrl</kbd>+<kbd>F</kbd> (Windows/Linux) and find `a` in the notebook. Then find `intercept`. Much easier, right?"
   ]
  },
  {
   "cell_type": "markdown",
   "metadata": {},
   "source": [
    "### Keep your code concise\n",
    "> \"Measuring programming progress by lines of code is like measuring aircraft building progress by weight\" - Bill Gates"
   ]
  },
  {
   "cell_type": "code",
   "execution_count": 4,
   "metadata": {},
   "outputs": [],
   "source": [
    "def check_threshold(value, threshold):\n",
    "    if value > threshold:\n",
    "        return True\n",
    "    else:\n",
    "        return False\n",
    "\n",
    "def check_threshold(value, threshold):\n",
    "    return value > threshold"
   ]
  },
  {
   "cell_type": "markdown",
   "metadata": {},
   "source": [
    "Again, these functions do the same thing, but the one with fewer lines of code is better because it's easier to read."
   ]
  },
  {
   "cell_type": "markdown",
   "metadata": {},
   "source": [
    "### Write your code so it doesn't need explanation\n"
   ]
  },
  {
   "cell_type": "code",
   "execution_count": 8,
   "metadata": {},
   "outputs": [],
   "source": [
    "def multiply(values):\n",
    "    # values is a list, so we need to split them\n",
    "    # and then multiply them together\n",
    "    return values[0] * values[1] \n",
    "\n",
    "def multiply(x1, x2):\n",
    "    return x1 * x1\n"
   ]
  },
  {
   "cell_type": "markdown",
   "metadata": {},
   "source": [
    "The second version is better because we don't need to explain what the function is doing. The syntax makes it clear."
   ]
  },
  {
   "cell_type": "markdown",
   "metadata": {},
   "source": [
    "## 6.2 Comments, and Documentation"
   ]
  },
  {
   "cell_type": "markdown",
   "metadata": {},
   "source": [
    "### 6.2.1 Comments\n",
    ">\"Commenting your code is like cleaning your bathroom - you never want to do it, but it really does create a more pleasant experience for you and your guests.\" - Ryan Campbell\n",
    "\n",
    "Comments in Python can be used by adding a `#` before a line of text. This tells Python to ignore whatever text is after the `#`. In general, you should always strive to write your code so it doesn't need comments, but sometimes they are simply unavoidable. Let's go over some examples.\n",
    "\n",
    "Here is a bad use of a comment..."
   ]
  },
  {
   "cell_type": "code",
   "execution_count": 6,
   "metadata": {},
   "outputs": [],
   "source": [
    "age = 25 # set the value of age"
   ]
  },
  {
   "cell_type": "markdown",
   "metadata": {},
   "source": [
    "This is a bad comment because it's already clear from the code what is happening. A good rule for writing comments is that *the comment should explain **why** you are doing something* rather than **what** you are doing. Here is a good example..."
   ]
  },
  {
   "cell_type": "code",
   "execution_count": 7,
   "metadata": {},
   "outputs": [],
   "source": [
    "x = np.array([0, 1, 2, 3, 5]).astype(float) # otherwise numpy returns integers\n",
    "x[x == 0] = 1e-16 # avoid log(0)\n",
    "log_x = np.log(x) "
   ]
  },
  {
   "cell_type": "markdown",
   "metadata": {},
   "source": [
    "In this case it's already clear from the code **what** we are doing, but it might not be obvious **why** we are doing it. This is where comments are the most useful."
   ]
  },
  {
   "cell_type": "markdown",
   "metadata": {},
   "source": [
    "### 6.2.1 Docstrings\n",
    "\n",
    "In the case of functions, because all of the details are hidden, it's useful to provide what is known as a **\"documentation string\"** or **\"docstring\"** for short. In general these are triple strings `\"\"\"Here is my docstring\"\"\"` written after the function name to explain what the function does, what the arguments do, and what the function returns. Here is an example from one of my own projects..."
   ]
  },
  {
   "cell_type": "code",
   "execution_count": 132,
   "metadata": {},
   "outputs": [],
   "source": [
    "def tag_template(max_side):\n",
    "    \"\"\"\n",
    "    Create a template for extracting barcode pixels using affine transform.\n",
    "\n",
    "    Parameters\n",
    "    ----------\n",
    "    max_side : int\n",
    "        The size of the template in pixels\n",
    "    Returns\n",
    "    -------\n",
    "    template : array_like\n",
    "        A template for storing extracted barcode pixels.\n",
    "\n",
    "    \"\"\"\n",
    "\n",
    "    length = max_side - 1\n",
    "    template = np.array([[0, 0],\n",
    "                        [length, 0],\n",
    "                        [length, length],\n",
    "                        [0, length]],\n",
    "                        dtype=np.float32)\n",
    "\n",
    "    return template"
   ]
  },
  {
   "cell_type": "markdown",
   "metadata": {},
   "source": [
    "While you probably have no idea what this function is used for, you can see this is a useful docstring. It tells the user what the inputs to the function are, what the function does, and what it returns. We can access this directly from the function object like so..."
   ]
  },
  {
   "cell_type": "code",
   "execution_count": 136,
   "metadata": {},
   "outputs": [
    {
     "name": "stdout",
     "output_type": "stream",
     "text": [
      "\n",
      "    Create a template for extracting barcode pixels using affine transform.\n",
      "\n",
      "    Parameters\n",
      "    ----------\n",
      "    max_side : int\n",
      "        The size of the template in pixels\n",
      "    Returns\n",
      "    -------\n",
      "    template : array_like\n",
      "        A template for storing extracted barcode pixels.\n",
      "\n",
      "    \n"
     ]
    }
   ],
   "source": [
    "print(tag_template.__doc__)"
   ]
  },
  {
   "cell_type": "markdown",
   "metadata": {},
   "source": [
    "Docstrings are also available in numpy..."
   ]
  },
  {
   "cell_type": "code",
   "execution_count": 137,
   "metadata": {},
   "outputs": [
    {
     "name": "stdout",
     "output_type": "stream",
     "text": [
      "\n",
      "    Return evenly spaced numbers over a specified interval.\n",
      "\n",
      "    Returns `num` evenly spaced samples, calculated over the\n",
      "    interval [`start`, `stop`].\n",
      "\n",
      "    The endpoint of the interval can optionally be excluded.\n",
      "\n",
      "    Parameters\n",
      "    ----------\n",
      "    start : scalar\n",
      "        The starting value of the sequence.\n",
      "    stop : scalar\n",
      "        The end value of the sequence, unless `endpoint` is set to False.\n",
      "        In that case, the sequence consists of all but the last of ``num + 1``\n",
      "        evenly spaced samples, so that `stop` is excluded.  Note that the step\n",
      "        size changes when `endpoint` is False.\n",
      "    num : int, optional\n",
      "        Number of samples to generate. Default is 50. Must be non-negative.\n",
      "    endpoint : bool, optional\n",
      "        If True, `stop` is the last sample. Otherwise, it is not included.\n",
      "        Default is True.\n",
      "    retstep : bool, optional\n",
      "        If True, return (`samples`, `step`), where `step` is the spacing\n",
      "        between samples.\n",
      "    dtype : dtype, optional\n",
      "        The type of the output array.  If `dtype` is not given, infer the data\n",
      "        type from the other input arguments.\n",
      "\n",
      "        .. versionadded:: 1.9.0\n",
      "\n",
      "    Returns\n",
      "    -------\n",
      "    samples : ndarray\n",
      "        There are `num` equally spaced samples in the closed interval\n",
      "        ``[start, stop]`` or the half-open interval ``[start, stop)``\n",
      "        (depending on whether `endpoint` is True or False).\n",
      "    step : float, optional\n",
      "        Only returned if `retstep` is True\n",
      "\n",
      "        Size of spacing between samples.\n",
      "\n",
      "\n",
      "    See Also\n",
      "    --------\n",
      "    arange : Similar to `linspace`, but uses a step size (instead of the\n",
      "             number of samples).\n",
      "    logspace : Samples uniformly distributed in log space.\n",
      "\n",
      "    Examples\n",
      "    --------\n",
      "    >>> np.linspace(2.0, 3.0, num=5)\n",
      "    array([ 2.  ,  2.25,  2.5 ,  2.75,  3.  ])\n",
      "    >>> np.linspace(2.0, 3.0, num=5, endpoint=False)\n",
      "    array([ 2. ,  2.2,  2.4,  2.6,  2.8])\n",
      "    >>> np.linspace(2.0, 3.0, num=5, retstep=True)\n",
      "    (array([ 2.  ,  2.25,  2.5 ,  2.75,  3.  ]), 0.25)\n",
      "\n",
      "    Graphical illustration:\n",
      "\n",
      "    >>> import matplotlib.pyplot as plt\n",
      "    >>> N = 8\n",
      "    >>> y = np.zeros(N)\n",
      "    >>> x1 = np.linspace(0, 10, N, endpoint=True)\n",
      "    >>> x2 = np.linspace(0, 10, N, endpoint=False)\n",
      "    >>> plt.plot(x1, y, 'o')\n",
      "    [<matplotlib.lines.Line2D object at 0x...>]\n",
      "    >>> plt.plot(x2, y + 0.5, 'o')\n",
      "    [<matplotlib.lines.Line2D object at 0x...>]\n",
      "    >>> plt.ylim([-0.5, 1])\n",
      "    (-0.5, 1)\n",
      "    >>> plt.show()\n",
      "\n",
      "    \n"
     ]
    }
   ],
   "source": [
    "print(np.linspace.__doc__)"
   ]
  },
  {
   "cell_type": "markdown",
   "metadata": {},
   "source": [
    "However we can also more conveniently access this in jupyter using <kbd>shift</kbd>+<kbd>tab</kbd> when the cursor is inside the parenthesis..."
   ]
  },
  {
   "cell_type": "code",
   "execution_count": null,
   "metadata": {},
   "outputs": [],
   "source": [
    "np.linspace(# put your cursor here and press shift+tab"
   ]
  },
  {
   "cell_type": "markdown",
   "metadata": {},
   "source": [
    "You can also access this information using the `?` operator like so..."
   ]
  },
  {
   "cell_type": "code",
   "execution_count": 135,
   "metadata": {},
   "outputs": [],
   "source": [
    "#this will bring up a box in the bottom of your screen with the docstring\n",
    "np.linspace?"
   ]
  },
  {
   "cell_type": "markdown",
   "metadata": {},
   "source": [
    "You should get in the habit of writing docstrings for your functions. This makes it easy for you to remember in the future exactly what your code is doing. Docstrings are typically available in all of the popular Python packages, so take advantage of them when you're programming!"
   ]
  },
  {
   "cell_type": "markdown",
   "metadata": {},
   "source": [
    "## 6.3 Computational complexity\n",
    "\n",
    ">\"Debugging time increases as a square of the program’s size.\" - Chris Wenham\n",
    "\n",
    "So far we've mostly worked with toy examples. In other words, our examples have been small and they run fast. However, at some point you will reach the limits of what is possible with your current machine, and this is where having a good understanding of **computational complexity** comes into play. \n",
    "\n",
    "Not all algorithms are built the same, and, in general, algorithms can be described in terms of the computation time they need to run and the amount of memory they need to make the computation. These two properties are known as **\"time complexity\"** and **\"memory (or space) complexity\"** respectively.\n",
    "\n",
    "The complexity of an algorithm (typically a function) with respect to computation and memory are typically described using what is called **\"big O notation\"**. This is just a way of describing the complexity of the algorithm in regard to the time or required memory it needs to perform the computation for various input sizes. Where a notation like $O(n^2)$ means that the function requires squared computational time or memory space as a function of the input size $n$.\n",
    "\n",
    "Let's look at a classic example of coamputational complexity, the *pairwise distance function*. Here we want to calculate pairwise distances for all the rows in an array using the following equation:\n",
    "   \n",
    "   $$ \\sqrt{\\sum{(x - y)^2}} $$\n",
    "   \n",
    "where $x$ and $y$ are $d$ dimensional vectors.\n",
    "\n",
    "In this example, we have a $n\\times d$ matrix $X$ which is a a set of $n$ vector coordinates with $d$ dimensions, and we want to know the Euclidean distance between each vector $x_{i} \\in X$ and all the other vectors $x_{j} \\in X$ for $i,j = 0,1,2,3...,n$ where $j \\neq i$. Our distances calculations should then produce the $n\\times n$ matrix $D$, which contains all the pairwise distances between vectors with zeros along the diagonal.\n",
    "\n",
    "Naively we can do this with a nested for loop..."
   ]
  },
  {
   "cell_type": "code",
   "execution_count": 138,
   "metadata": {},
   "outputs": [
    {
     "data": {
      "image/png": "[encoded data removed]",
      "text/plain": [
       "<Figure size 432x288 with 2 Axes>"
      ]
     },
     "metadata": {},
     "output_type": "display_data"
    }
   ],
   "source": [
    "import numpy as np\n",
    "import matplotlib.pyplot as plt\n",
    "\n",
    "n = 5\n",
    "d = 1\n",
    "X = np.random.normal(size=(n, d))\n",
    "\n",
    "def distance(x1, x2):\n",
    "    return np.sqrt(np.sum((x1 - x2)**2))\n",
    "\n",
    "def loop_pairwise_distances(X):\n",
    "    n = X.shape[0]\n",
    "    D = np.zeros((n, n))\n",
    "    for idx in range(n):\n",
    "        for jdx in range(n):\n",
    "            D[idx, jdx] = distance(X[idx], X[jdx])\n",
    "    return D\n",
    "\n",
    "D = loop_pairwise_distances(X)\n",
    "\n",
    "plt.figure()\n",
    "plt.imshow(D)\n",
    "plt.colorbar()\n",
    "plt.show()"
   ]
  },
  {
   "cell_type": "markdown",
   "metadata": {},
   "source": [
    "Notice that this pairwise distance algorithm has low memory complexity as we are only calculating a single distance at a time, but there is very high time complexity as we are having to do many operations sequentially—$O(n^2)$ computations in this case. In fact, just for good measure, let's time our function to see how long it takes to run. We can do this with some jupyter magic using the `%timeit` command..."
   ]
  },
  {
   "cell_type": "code",
   "execution_count": null,
   "metadata": {},
   "outputs": [],
   "source": [
    "%timeit loop_pairwise_distances(X)"
   ]
  },
  {
   "cell_type": "markdown",
   "metadata": {},
   "source": [
    "That's not bad, but watch what happens when we increase $n$ and $d$ by an order of magnitude..."
   ]
  },
  {
   "cell_type": "code",
   "execution_count": null,
   "metadata": {},
   "outputs": [],
   "source": [
    "n = 50\n",
    "d = 10\n",
    "X = np.random.normal(size=(n, d))\n",
    "%timeit loop_pairwise_distances(X)"
   ]
  },
  {
   "cell_type": "markdown",
   "metadata": {},
   "source": [
    "That's getting slower! There must be a better way. Luckily numpy allows us to **vectorize** these computations, which increases our memory complexity, but also decreases our time complexity by parallelizing operations. We can achieve this using **broadcasting** like so..."
   ]
  },
  {
   "cell_type": "code",
   "execution_count": null,
   "metadata": {},
   "outputs": [],
   "source": [
    "import numpy as np\n",
    "import matplotlib.pyplot as plt\n",
    "\n",
    "n = 5\n",
    "d = 1\n",
    "X = np.random.normal(size=(n, d))\n",
    "\n",
    "def loop_vectorized_pairwise_distances(X):\n",
    "    n = X.shape[0]\n",
    "    D = np.zeros((n, n))\n",
    "    for idx in range(n):\n",
    "        distances = (X[idx] - X)**2\n",
    "        distances = np.sum(distances, axis=1)\n",
    "        D[idx] = np.sqrt(distances)\n",
    "    return D\n",
    "\n",
    "D = loop_vectorized_pairwise_distances(X)\n",
    "\n",
    "plt.figure()\n",
    "plt.imshow(D)\n",
    "plt.colorbar()\n",
    "plt.show()"
   ]
  },
  {
   "cell_type": "code",
   "execution_count": null,
   "metadata": {},
   "outputs": [],
   "source": [
    "n = 50\n",
    "d = 10\n",
    "X = np.random.normal(size=(n, d))\n",
    "%timeit loop_pairwise_distances(X)\n",
    "%timeit loop_vectorized_pairwise_distances(X)"
   ]
  },
  {
   "cell_type": "markdown",
   "metadata": {},
   "source": [
    " The main difference was replacing our nested loop `for jdx in range(n):` with the broadcasting operation `X[idx] - X`. Let's take a look at what this is doing with a simple example..."
   ]
  },
  {
   "cell_type": "code",
   "execution_count": null,
   "metadata": {},
   "outputs": [],
   "source": [
    "X = np.array([[0, 0, 0],\n",
    "              [10, 10, 10],\n",
    "              [100, 100, 100]])\n",
    "\n",
    "y = np.array([1, 2, 3])\n",
    "\n",
    "print(X + y)"
   ]
  },
  {
   "cell_type": "markdown",
   "metadata": {},
   "source": [
    "This should help illustrate what broadcasting does. Instead of having to explicitly specify a loop `for jdx in range(n):`, numpy is smart enough to infer that a loop is required based on the shapes of our two arrays. It then performs the same operations as the loop but in parallel."
   ]
  },
  {
   "cell_type": "markdown",
   "metadata": {},
   "source": [
    "Great! Our vectorized version is faster, but what happens when we increase the $d$ by another order of magnitude..."
   ]
  },
  {
   "cell_type": "code",
   "execution_count": null,
   "metadata": {},
   "outputs": [],
   "source": [
    "n = 50\n",
    "d = 100\n",
    "X = np.random.normal(size=(n, d))\n",
    "%timeit loop_vectorized_pairwise_distances(X)"
   ]
  },
  {
   "cell_type": "markdown",
   "metadata": {},
   "source": [
    "It's slowing down again, but we can speed it up with more vectorization..."
   ]
  },
  {
   "cell_type": "code",
   "execution_count": null,
   "metadata": {},
   "outputs": [],
   "source": [
    "import numpy as np\n",
    "import matplotlib.pyplot as plt\n",
    "\n",
    "n = 5\n",
    "d = 1\n",
    "X = np.random.normal(size=(n, d))\n",
    "\n",
    "def fully_vectorized_pairwise_distances(X):\n",
    "    D = (X[:, np.newaxis] - X)**2\n",
    "    D = np.sum(D, axis=2)\n",
    "    D = np.sqrt(D)\n",
    "    return D\n",
    "\n",
    "D = fully_vectorized_pairwise_distances(X)\n",
    "\n",
    "plt.figure()\n",
    "plt.imshow(D)\n",
    "plt.colorbar()\n",
    "plt.show()"
   ]
  },
  {
   "cell_type": "markdown",
   "metadata": {},
   "source": [
    "Now let's check how fast this is..."
   ]
  },
  {
   "cell_type": "code",
   "execution_count": null,
   "metadata": {},
   "outputs": [],
   "source": [
    "n = 50\n",
    "d = 100\n",
    "X = np.random.normal(size=(n, d))\n",
    "%timeit loop_vectorized_pairwise_distances(X)\n",
    "%timeit fully_vectorized_pairwise_distances(X)"
   ]
  },
  {
   "cell_type": "markdown",
   "metadata": {},
   "source": [
    "That's twice as fast! And just to make sure our functions give the same results, let's check this with numpy..."
   ]
  },
  {
   "cell_type": "code",
   "execution_count": null,
   "metadata": {},
   "outputs": [],
   "source": [
    "print(np.allclose(loop_vectorized_pairwise_distances(X), fully_vectorized_pairwise_distances(X)))"
   ]
  },
  {
   "cell_type": "markdown",
   "metadata": {},
   "source": [
    "Great! We managed to decrease the time complexity of our function with numpy by increasing our memory complexity through parallelization.\n",
    "\n",
    "However this speed-up comes at a cost. The major change is this piece of code `X - X[:, np.newaxis]` which calculates the pairwise differences using broadcasting. Let's take a closer look by seeing what `X[:, np.newaxis]` does..."
   ]
  },
  {
   "cell_type": "code",
   "execution_count": null,
   "metadata": {},
   "outputs": [],
   "source": [
    "print(X[:, np.newaxis].shape)"
   ]
  },
  {
   "cell_type": "markdown",
   "metadata": {},
   "source": [
    "By adding a new axis with `np.newaxis` this is equivalent to reshaping the array using `X.reshape(50, 1, 100)`. We can achieve the same result with `X[:, np.newaxis, :]`, but we don't need to extra `:` because numpy is smart enough to figure out that we only want a new axis after the first axis. "
   ]
  },
  {
   "cell_type": "markdown",
   "metadata": {},
   "source": [
    "You can see we've added a dimension to our array `X`. In other words our rank 2 array is now a rank 3 array, so when we perform operations with our original array `X`, numpy broadcasts the operation across our new axis like so..."
   ]
  },
  {
   "cell_type": "code",
   "execution_count": null,
   "metadata": {},
   "outputs": [],
   "source": [
    "pairwise_differences = X - X[:, np.newaxis]"
   ]
  },
  {
   "cell_type": "markdown",
   "metadata": {},
   "source": [
    "But what is numpy doing here? Well, by adding a new axis to our array and using broadcasting we are effectively getting rid of our second loop `for idx in range(n):`. Based on the shapes of our arrays, numpy figures out that we want to do a nested for loop like that in our original function, but it does this in parallel rather than sequentially.\n",
    "\n",
    "Ok, but then what is the shape of our output? Let's check..."
   ]
  },
  {
   "cell_type": "code",
   "execution_count": 104,
   "metadata": {},
   "outputs": [
    {
     "name": "stdout",
     "output_type": "stream",
     "text": [
      "(50, 50, 100)\n"
     ]
    }
   ],
   "source": [
    "print(pairwise_differences.shape)"
   ]
  },
  {
   "cell_type": "markdown",
   "metadata": {},
   "source": [
    "That's a big array! Compared to our pairwise distance matrix which is only $n\\times n$, this array is $n\\times n \\times d$. This means the memory complexity of our vectorized pairwise distance algorithm is actually $O(dn^2)$, which is significantly higher than the memory complexity of our loop function $O(n^2)$. \n",
    "\n",
    "On the surface that may not seem like a big difference, but let's see what that means in terms of actual memory usage..."
   ]
  },
  {
   "cell_type": "code",
   "execution_count": 105,
   "metadata": {},
   "outputs": [
    {
     "name": "stdout",
     "output_type": "stream",
     "text": [
      "10000.0\n"
     ]
    }
   ],
   "source": [
    "print(pairwise_differences.size / D.size)"
   ]
  },
  {
   "cell_type": "markdown",
   "metadata": {},
   "source": [
    "Yikes! That's a 10,000x increase in memory usage! Just from a simple change in our code.\n",
    "\n",
    "In general, computational complexity is a constant trade-off between memory complexity and time complexity, and the best strategy ultimately depends on the application. In this case, if you only plan on calculating pairwise distances for small arrays then the vectorized algorithm works great, but if you plan to calculate pairwise distances for much larger arrays then you may quickly run out of memory when using the vectorized version.\n",
    "\n",
    "Figuring out the right complexity for your algorithm is something you as a programmer will have learn, and often there is no easy solution."
   ]
  },
  {
   "cell_type": "markdown",
   "metadata": {},
   "source": [
    "## 6.4 Exercise\n",
    "\n",
    "So far we've discussed two different ways to calculate pairwise distances. Each method represents one side of the complexity trade-off. However, there is a way to calculate pairwise distances that is *both time efficient and memory efficient*, but it requires some careful thought about the math behind what we're trying to calculate. \n",
    "\n",
    "For this excercise it's your job to figure out the algorithm that is faster than our algorithm using for loops but also memory efficient enough to calculate the pairwise distances for a large $10,000\\times 1,000$ matrix. This is a case where an $O(n^2)$ algorithm is *required*, and our $O(dn^2)$ algorithm just won't work. However our current $O(n^2)$ algorithm is way too slow, so we need to develop a new one. \n",
    "\n",
    "To solve this problem, we need to go back to our distance equation:\n",
    "$$ \\sqrt{\\sum{(x - y) ^2}}$$\n",
    "\n",
    "Here's a hint for how we might make our calculations more efficient. Let's ignore the $\\sum{}$ and $\\sqrt{}$ for now. We can expand our equation like so...\n",
    "\n",
    "$$ (x - y)^2 = (x - y)(x - y) = x^2 + y^2 - 2xy$$\n",
    "\n",
    "therefore:\n",
    "\n",
    "$$ \\sum{(x - y)^2} = \\sum{x^2} + \\sum{y^2} - 2\\sum{xy} $$\n",
    "\n",
    "and:\n",
    "\n",
    "$$ \\sqrt{\\sum{(x - y)^2}} = \\sqrt{\\sum{x^2} + \\sum{y^2} - 2\\sum{xy}} $$\n",
    "\n",
    "Here's another hint. Because $x$ and $y$ are vectors (rows of a matrix), that means $\\sum{xy}$ is equivalent to the **dot product**, or:\n",
    "$$ \\sum{xy} = x \\cdot y^T$$\n",
    "where $^T$ indicates a transposed vector. And numpy happens to have a very memory efficient implementation of the dot product `np.dot`"
   ]
  },
  {
   "cell_type": "code",
   "execution_count": 106,
   "metadata": {},
   "outputs": [
    {
     "name": "stdout",
     "output_type": "stream",
     "text": [
      "(10000, 1000)\n"
     ]
    }
   ],
   "source": [
    "n = 10000\n",
    "d = 1000\n",
    "X = np.random.normal(size=(n, d))\n",
    "print(X.shape)"
   ]
  },
  {
   "cell_type": "code",
   "execution_count": 107,
   "metadata": {},
   "outputs": [],
   "source": [
    "# don't run this, you'll crash your computer!\n",
    "# vectorized_pairwise_distances(X) # MEMORY ERROR!"
   ]
  },
  {
   "cell_type": "code",
   "execution_count": 108,
   "metadata": {},
   "outputs": [],
   "source": [
    "# don't run these, you'll be waiting forever!\n",
    "# loop_vectorized_pairwise_distances(X)\n",
    "# loop_pairwise_distances(X)"
   ]
  },
  {
   "cell_type": "markdown",
   "metadata": {},
   "source": [
    "Here is my solution to the problem, just to show that it's possible to solve..."
   ]
  },
  {
   "cell_type": "code",
   "execution_count": 109,
   "metadata": {},
   "outputs": [
    {
     "data": {
      "image/png": "[encoded data removed]",
      "text/plain": [
       "<Figure size 432x288 with 2 Axes>"
      ]
     },
     "metadata": {},
     "output_type": "display_data"
    }
   ],
   "source": [
    "import jakes_secret_module as jake\n",
    "\n",
    "D = jake.pairwise_distances(X)\n",
    "\n",
    "plt.imshow(D)\n",
    "plt.colorbar()\n",
    "plt.show()"
   ]
  },
  {
   "cell_type": "code",
   "execution_count": 110,
   "metadata": {},
   "outputs": [
    {
     "name": "stdout",
     "output_type": "stream",
     "text": [
      "4.99 s ± 375 ms per loop (mean ± std. dev. of 7 runs, 1 loop each)\n"
     ]
    }
   ],
   "source": [
    "%timeit jake.pairwise_distances(X)"
   ]
  },
  {
   "cell_type": "markdown",
   "metadata": {},
   "source": [
    "Just to prove the results are the same..."
   ]
  },
  {
   "cell_type": "code",
   "execution_count": 111,
   "metadata": {},
   "outputs": [
    {
     "name": "stdout",
     "output_type": "stream",
     "text": [
      "True\n",
      "True\n"
     ]
    }
   ],
   "source": [
    "n = 5\n",
    "d = 1\n",
    "X = np.random.normal(size=(n, d))\n",
    "\n",
    "print(np.allclose(jake.pairwise_distances(X), loop_pairwise_distances(X)))\n",
    "print(np.allclose(jake.pairwise_distances(X), vectorized_pairwise_distances(X)))\n"
   ]
  }
 ],
 "metadata": {
  "kernelspec": {
   "display_name": "Python 3",
   "language": "python",
   "name": "python3"
  },
  "language_info": {
   "codemirror_mode": {
    "name": "ipython",
    "version": 3
   },
   "file_extension": ".py",
   "mimetype": "text/x-python",
   "name": "python",
   "nbconvert_exporter": "python",
   "pygments_lexer": "ipython3",
   "version": "3.6.5"
  }
 },
 "nbformat": 4,
 "nbformat_minor": 2
}
